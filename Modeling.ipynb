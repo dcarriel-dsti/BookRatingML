{
 "cells": [
  {
   "cell_type": "code",
   "execution_count": null,
   "metadata": {},
   "outputs": [],
   "source": []
  },
  {
   "attachments": {},
   "cell_type": "markdown",
   "metadata": {},
   "source": [
    "## Modeling Objetives\n",
    "\n",
    "### Introduction\n",
    "\n",
    "After doing the data cleaning and feature selection. We have decided to test models in order to predict the ratings of a book from different inputs. One of the main transformation that were performed was the transformation of the rating columns into 3 different categories. \n",
    "It would be interesting too to compare models that predict the initial average rating, when using SMOTE algorithm in order to balance the data."
   ]
  },
  {
   "cell_type": "markdown",
   "metadata": {},
   "source": []
  }
 ],
 "metadata": {
  "language_info": {
   "name": "python"
  },
  "orig_nbformat": 4
 },
 "nbformat": 4,
 "nbformat_minor": 2
}
