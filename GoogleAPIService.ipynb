{
 "cells": [
  {
   "cell_type": "code",
   "execution_count": 1,
   "metadata": {},
   "outputs": [
    {
     "name": "stdout",
     "output_type": "stream",
     "text": [
      "Title: Learning Python\n",
      "Author(s): Mark Lutz, David Ascher\n",
      "Publisher: O'Reilly Media\n",
      "Published date: 2004\n"
     ]
    }
   ],
   "source": [
    "import requests\n",
    "\n",
    "# Set up the API endpoint URL\n",
    "url = \"https://www.googleapis.com/books/v1/volumes\"\n",
    "\n",
    "# Set up the parameters for the request\n",
    "params = {\n",
    "    \"q\": \"isbn:9780596002817\",  # ISBN of the book to retrieve\n",
    "    \"key\": \"\"  # Replace with your API key (optional)\n",
    "}\n",
    "\n",
    "# Send the request and store the response\n",
    "response = requests.get(url, params=params)\n",
    "\n",
    "# Check if the request was successful (status code 200)\n",
    "if response.status_code == 200:\n",
    "    # Parse the response as JSON and extract the book information\n",
    "    book_data = response.json()[\"items\"][0][\"volumeInfo\"]\n",
    "    print(f\"Title: {book_data['title']}\")\n",
    "    print(f\"Author(s): {', '.join(book_data['authors'])}\")\n",
    "    print(f\"Publisher: {book_data['publisher']}\")\n",
    "    print(f\"Published date: {book_data['publishedDate']}\")\n",
    "else:\n",
    "    print(\"Error:\", response.status_code)\n"
   ]
  },
  {
   "cell_type": "code",
   "execution_count": 5,
   "metadata": {},
   "outputs": [],
   "source": [
    "dataset = pd.read_csv(\"books.csv\", encoding='UTF-8',on_bad_lines='skip')"
   ]
  },
  {
   "cell_type": "code",
   "execution_count": 10,
   "metadata": {},
   "outputs": [
    {
     "data": {
      "text/plain": [
       "11123"
      ]
     },
     "execution_count": 10,
     "metadata": {},
     "output_type": "execute_result"
    }
   ],
   "source": [
    "isbn_list = dataset['isbn'].unique()\n",
    "len(isbn_list)"
   ]
  },
  {
   "cell_type": "code",
   "execution_count": 3,
   "metadata": {},
   "outputs": [
    {
     "name": "stdout",
     "output_type": "stream",
     "text": [
      "            ISBN                                 Title               Author  \\\n",
      "0     0451526538          The Adventures of Tom Sawyer           Mark Twain   \n",
      "1  9780345391803  The Hitchhiker's Guide to the Galaxy        Douglas Adams   \n",
      "2     0553588486                     A Game of Thrones  George R. R. Martin   \n",
      "\n",
      "  Publishing Date Category                                        Description  \n",
      "0            1997  Fiction  The adventures of a mischievous young boy and ...  \n",
      "1      1995-09-27  Fiction  NEW YORK TIMES BESTSELLER • “Extremely funny ....  \n",
      "2         2005-08  Fiction  A tale of court intrigues in the land of Seven...  \n"
     ]
    }
   ],
   "source": [
    "import requests\n",
    "import pandas as pd\n",
    "\n",
    "# Set up Google Books API endpoint and API key\n",
    "api_endpoint = 'https://www.googleapis.com/books/v1/volumes'\n",
    "api_key = ''\n",
    "\n",
    "# Define function to retrieve book information for a given ISBN\n",
    "def get_book_info(isbn):\n",
    "    # Construct URL with ISBN and API key\n",
    "    url = f'{api_endpoint}?q=isbn:{isbn}&key={api_key}'\n",
    "    # Send GET request to API endpoint and parse JSON response\n",
    "    response = requests.get(url)\n",
    "    json_data = response.json()\n",
    "    # Extract relevant book information from JSON data\n",
    "    try:\n",
    "        title = json_data['items'][0]['volumeInfo']['title']\n",
    "    except KeyError:\n",
    "        title = None\n",
    "    try:\n",
    "        author = json_data['items'][0]['volumeInfo']['authors'][0]\n",
    "    except KeyError:\n",
    "        author = None\n",
    "    try:\n",
    "        pub_date = json_data['items'][0]['volumeInfo']['publishedDate']\n",
    "    except KeyError:\n",
    "        pub_date = None\n",
    "    try:\n",
    "        categories = json_data['items'][0]['volumeInfo']['categories']\n",
    "        category = \",\".join(categories)\n",
    "    except KeyError:\n",
    "        category = None\n",
    "    try:\n",
    "        description = json_data['items'][0]['volumeInfo']['description']\n",
    "    except KeyError:\n",
    "        description = None\n",
    "    # Return book information as dictionary\n",
    "    return {'ISBN': isbn, 'Title': title, 'Author': author, 'Publishing Date': pub_date, 'Category': category, 'Description': description}\n",
    "\n",
    "# Define function to retrieve book information for a list of ISBNs and create a pandas DataFrame\n",
    "def get_book_data(isbn_list):\n",
    "    # Initialize list to store book information dictionaries\n",
    "    book_info_list = []\n",
    "    # Loop over ISBNs and retrieve book information for each one\n",
    "    for isbn in isbn_list:\n",
    "        book_info = get_book_info(isbn)\n",
    "        book_info_list.append(book_info)\n",
    "    # Create pandas DataFrame from list of book information dictionaries\n",
    "    book_data = pd.DataFrame(book_info_list)\n",
    "    return book_data\n",
    "\n",
    "# Example usage\n",
    "isbn_list = ['0451526538', '9780345391803', '0553588486']\n",
    "book_data = get_book_data(isbn_list)\n",
    "print(book_data)\n"
   ]
  },
  {
   "cell_type": "code",
   "execution_count": null,
   "metadata": {},
   "outputs": [],
   "source": []
  }
 ],
 "metadata": {
  "kernelspec": {
   "display_name": "BookML",
   "language": "python",
   "name": "python3"
  },
  "language_info": {
   "codemirror_mode": {
    "name": "ipython",
    "version": 3
   },
   "file_extension": ".py",
   "mimetype": "text/x-python",
   "name": "python",
   "nbconvert_exporter": "python",
   "pygments_lexer": "ipython3",
   "version": "3.9.15"
  },
  "orig_nbformat": 4
 },
 "nbformat": 4,
 "nbformat_minor": 2
}
